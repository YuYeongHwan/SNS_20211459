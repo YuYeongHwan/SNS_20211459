{
 "cells": [
  {
   "cell_type": "code",
   "execution_count": 4,
   "id": "f752f56b-2c44-4c13-b0a6-f7010dd4510e",
   "metadata": {},
   "outputs": [
    {
     "name": "stdout",
     "output_type": "stream",
     "text": [
      "데이터 수집 완료\n",
      "\n",
      "수집 완료 및 SCV 저장!!\n",
      "      순위                 책제목       저자      출판사\n",
      "0      1                 혼모노      성해나       창비\n",
      "1      2            첫 여름, 완주      김금희       무제\n",
      "2      3              청춘의 독서      유시민  웅진지식하우스\n",
      "3      4            안녕이라 그랬어      김애란     문학동네\n",
      "4      5            단 한 번의 삶      김영하     복복서가\n",
      "..   ...                 ...      ...      ...\n",
      "994  995              귀신들의 땅      천쓰홍      민음사\n",
      "995  996          이반 일리치의 죽음  레프 톨스토이      민음사\n",
      "996  997           오래 보고 싶었다      나태주      더블북\n",
      "997  998  요즘 어른을 위한 최소한의 세계사      임소미      빅피시\n",
      "998  999            1%를 읽는 힘       메르     토네이도\n",
      "\n",
      "[999 rows x 4 columns]\n"
     ]
    }
   ],
   "source": [
    "import requests\n",
    "import pandas as pd\n",
    "from bs4 import BeautifulSoup\n",
    "\n",
    "books = []\n",
    "page = 1\n",
    "\n",
    "while True:\n",
    "    link = f\"https://www.yes24.com/product/category/bestseller?categoryNumber=001&pageNumber={page}&pageSize=24\"\n",
    "    response = requests.get(link)\n",
    "    response.raise_for_status()\n",
    "\n",
    "    soup = BeautifulSoup(response.text, \"html.parser\")\n",
    "    book_items = soup.find_all(\"li\", attrs={\"data-goods-no\": True})\n",
    "\n",
    "    if not book_items:\n",
    "        print(\"데이터 수집 완료\\n\")\n",
    "        break\n",
    "\n",
    "    for item in book_items:\n",
    "        rank_tag = item.select_one(\"em.ico.rank\")\n",
    "        title_tag = item.select_one(\"a.gd_name\")\n",
    "        author_tag = item.select_one(\"span.authPub.info_auth a\")\n",
    "        pub_tag = item.select_one(\"span.authPub.info_pub a\")\n",
    "\n",
    "        rank = rank_tag.get_text(strip=True) if rank_tag else ''\n",
    "        title = title_tag.get_text(strip=True) if title_tag else ''\n",
    "        author = author_tag.get_text(strip=True) if author_tag else ''\n",
    "        publisher = pub_tag.get_text(strip=True) if pub_tag else ''\n",
    "\n",
    "        books.append([rank, title, author, publisher])\n",
    "\n",
    "    page += 1\n",
    "\n",
    "df = pd.DataFrame(books, columns=[\"순위\", \"책제목\", \"저자\", \"출판사\"])\n",
    "print(\"수집 완료 및 SCV 저장!!\")\n",
    "print(df)\n",
    "\n",
    "df.to_csv(\"yes24목록.csv\", index=False, encoding=\"utf-8-sig\")"
   ]
  }
 ],
 "metadata": {
  "kernelspec": {
   "display_name": "Python 3 (ipykernel)",
   "language": "python",
   "name": "python3"
  },
  "language_info": {
   "codemirror_mode": {
    "name": "ipython",
    "version": 3
   },
   "file_extension": ".py",
   "mimetype": "text/x-python",
   "name": "python",
   "nbconvert_exporter": "python",
   "pygments_lexer": "ipython3",
   "version": "3.11.9"
  }
 },
 "nbformat": 4,
 "nbformat_minor": 5
}
